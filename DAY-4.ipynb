{
 "cells": [
  {
   "cell_type": "markdown",
   "metadata": {},
   "source": [
    "# TODAY'S  TOPICS:1/2/21"
   ]
  },
  {
   "cell_type": "code",
   "execution_count": null,
   "metadata": {},
   "outputs": [],
   "source": [
    "# write a program to display user given data:\n",
    "# user can give the a-z or(A-Z)----->print alphabet\n",
    "# user can give 0-9 ---->print digit\n",
    "use can give the @,#, &, *,^, ()----> print special character\n",
    "data=input(\"enter any kind of data:-\")\n",
    "if data<='a'and data>='z' or data<='A' and data>='Z':\n",
    "      print(data,' is alphabet')\n",
    "elif data<='0' and data>='9':\n",
    "    print(data,'is digit') \n",
    "else:\n",
    "    print(data,'special character')\n",
    "        "
   ]
  },
  {
   "cell_type": "code",
   "execution_count": null,
   "metadata": {},
   "outputs": [],
   "source": [
    "uname=input('enter u name:-')\n",
    "pwd=input('enter pwd:-')\n",
    "\n",
    "\n",
    "if uname==\"teju\" and pwd==\"teju1234\":\n",
    "     print('welcome',uname)\n",
    "else:\n",
    "    print('invalid uname and password')"
   ]
  },
  {
   "cell_type": "code",
   "execution_count": 1,
   "metadata": {},
   "outputs": [
    {
     "name": "stdout",
     "output_type": "stream",
     "text": [
      "enter u name:-teju\n",
      "enter pwd:-········\n",
      "welcome teju\n"
     ]
    }
   ],
   "source": [
    "# package-->\"is a collection of moudules\"\n",
    "# moudule-->\"is a collection of methods/functions\"\n",
    "\n",
    "from getpass import getpass\n",
    "uname=input('enter u name:-')\n",
    "pwd=getpass('enter pwd:-')\n",
    "\n",
    "\n",
    "if uname==\"teju\" and pwd==\"teju1234\":\n",
    "     print('welcome',uname)\n",
    "else:\n",
    "    print('invalid uname and password')"
   ]
  },
  {
   "cell_type": "code",
   "execution_count": 12,
   "metadata": {},
   "outputs": [
    {
     "name": "stdout",
     "output_type": "stream",
     "text": [
      "enter no of tables5\n",
      " enter table multiplies5\n",
      "1 * 1 = 1\t2 * 1 = 2\t3 * 1 = 3\t4 * 1 = 4\t5 * 1 = 5\t\n",
      "\n",
      "1 * 2 = 2\t2 * 2 = 4\t3 * 2 = 6\t4 * 2 = 8\t5 * 2 = 10\t\n",
      "\n",
      "1 * 3 = 3\t2 * 3 = 6\t3 * 3 = 9\t4 * 3 = 12\t5 * 3 = 15\t\n",
      "\n",
      "1 * 4 = 4\t2 * 4 = 8\t3 * 4 = 12\t4 * 4 = 16\t5 * 4 = 20\t\n",
      "\n",
      "1 * 5 = 5\t2 * 5 = 10\t3 * 5 = 15\t4 * 5 = 20\t5 * 5 = 25\t\n",
      "\n"
     ]
    }
   ],
   "source": [
    "t=int(input('enter no of tables'))\n",
    "m=int(input(' enter table multiplies'))\n",
    "for j in range(1,m+1):\n",
    "    for  i in range(1,t+1):\n",
    "        print(i,'*',j,'=',i*j,end=\"\\t\")\n",
    "    print('\\n')"
   ]
  },
  {
   "cell_type": "code",
   "execution_count": 5,
   "metadata": {},
   "outputs": [
    {
     "name": "stdout",
     "output_type": "stream",
     "text": [
      "enter no of tables4\n",
      " enter table multiplies5\n",
      "1 * 1 = 1\n",
      "1 * 1= 1\n",
      "\n",
      "\n",
      "1 * 2 = 2\n",
      "1 * 2= 2\n",
      "\n",
      "\n",
      "1 * 3 = 3\n",
      "1 * 3= 3\n",
      "\n",
      "\n",
      "1 * 4 = 4\n",
      "1 * 4= 4\n",
      "\n",
      "\n",
      "1 * 5 = 5\n",
      "1 * 5= 5\n",
      "\n",
      "\n",
      "2 * 1 = 2\n",
      "2 * 1= 2\n",
      "\n",
      "\n",
      "2 * 2 = 4\n",
      "2 * 2= 4\n",
      "\n",
      "\n",
      "2 * 3 = 6\n",
      "2 * 3= 6\n",
      "\n",
      "\n",
      "2 * 4 = 8\n",
      "2 * 4= 8\n",
      "\n",
      "\n",
      "2 * 5 = 10\n",
      "2 * 5= 10\n",
      "\n",
      "\n",
      "3 * 1 = 3\n",
      "3 * 1= 3\n",
      "\n",
      "\n",
      "3 * 2 = 6\n",
      "3 * 2= 6\n",
      "\n",
      "\n",
      "3 * 3 = 9\n",
      "3 * 3= 9\n",
      "\n",
      "\n",
      "3 * 4 = 12\n",
      "3 * 4= 12\n",
      "\n",
      "\n",
      "3 * 5 = 15\n",
      "3 * 5= 15\n",
      "\n",
      "\n",
      "4 * 1 = 4\n",
      "4 * 1= 4\n",
      "\n",
      "\n",
      "4 * 2 = 8\n",
      "4 * 2= 8\n",
      "\n",
      "\n",
      "4 * 3 = 12\n",
      "4 * 3= 12\n",
      "\n",
      "\n",
      "4 * 4 = 16\n",
      "4 * 4= 16\n",
      "\n",
      "\n",
      "4 * 5 = 20\n",
      "4 * 5= 20\n",
      "\n",
      "\n"
     ]
    }
   ],
   "source": [
    "t=int(input('enter no of tables'))\n",
    "m=int(input(' enter table multiplies'))\n",
    "for j in range(1,m+1):\n",
    "    for i in range(1,t+1):\n",
    "        print(i,'*',j,'=',i*j)\n",
    "        print('%d * %d= %d'%(i,j,i*j))\n",
    "        print('\\n')"
   ]
  },
  {
   "cell_type": "code",
   "execution_count": 11,
   "metadata": {},
   "outputs": [
    {
     "name": "stdout",
     "output_type": "stream",
     "text": [
      "enter value5\n",
      "5\n",
      "120\n"
     ]
    }
   ],
   "source": [
    "# factorial  of a given number using for loop\n",
    "num=int(input('enter value'))\n",
    "i=1\n",
    "for fact in range(1,num+1):\n",
    "  i=i*fact\n",
    "print(fact)\n",
    "print(i)"
   ]
  },
  {
   "cell_type": "code",
   "execution_count": 17,
   "metadata": {},
   "outputs": [
    {
     "name": "stdout",
     "output_type": "stream",
     "text": [
      "enter value10\n",
      "1\n",
      "2\n",
      "5\n",
      "10\n"
     ]
    }
   ],
   "source": [
    "# finding factors\n",
    "n=int(input('enter value'))\n",
    "for f in range(1,n+1):\n",
    "    if n%f==0:\n",
    "        print(f)\n",
    "              "
   ]
  },
  {
   "cell_type": "markdown",
   "metadata": {},
   "source": [
    "# user defined functions advantages are:\n",
    "+  block of statements to perform some particular task\n",
    "+ code reusability\n",
    "+  reduces the length of the code\n",
    "+  time will be saved\n",
    "### syntax  for def function:\n",
    "+ def functionname(parameters): \n",
    "#### syntax for function:\n",
    "+ with arguments with return type\n",
    "+ without aruments with return type\n",
    "+ without argumts without return type\n",
    "+ \n",
    "# In python we have 8 arguments\n",
    "+ with arguments with return type\n",
    "+ without aruments with return type\n",
    "+ without argumts without return type\n",
    "+ with argumnet without return type\n",
    "+ required argumnets/positional\n",
    "+ keyword argumnet\n",
    "+ default argumnet\n",
    "+ variable length argument\n",
    "- srings--->group of characters enclosed in \" \"\n",
    "-  list ---> collection of items\n",
    "-  tuple\n",
    "- dictinory\n",
    "-  sets"
   ]
  },
  {
   "cell_type": "code",
   "execution_count": 21,
   "metadata": {},
   "outputs": [
    {
     "name": "stdout",
     "output_type": "stream",
     "text": [
      "3\n"
     ]
    }
   ],
   "source": [
    "def add(a,b):\n",
    "  print(a+b)\n",
    "add(1,2)"
   ]
  },
  {
   "cell_type": "code",
   "execution_count": 26,
   "metadata": {},
   "outputs": [
    {
     "name": "stdout",
     "output_type": "stream",
     "text": [
      "teju\n"
     ]
    }
   ],
   "source": [
    "def sample():\n",
    "    print('teju')\n",
    "sample()"
   ]
  },
  {
   "cell_type": "code",
   "execution_count": 28,
   "metadata": {},
   "outputs": [
    {
     "name": "stdout",
     "output_type": "stream",
     "text": [
      "python workshop\n",
      "teju\n"
     ]
    }
   ],
   "source": [
    "def sample():\n",
    "    print('teju')\n",
    "print('python workshop')# it will excute first becoz it is in ouside of the method\n",
    "sample()"
   ]
  },
  {
   "cell_type": "code",
   "execution_count": 29,
   "metadata": {},
   "outputs": [
    {
     "name": "stdout",
     "output_type": "stream",
     "text": [
      "teju\n"
     ]
    }
   ],
   "source": [
    "def sample():\n",
    "    pass\n",
    "print('teju')\n",
    "sample()"
   ]
  },
  {
   "cell_type": "code",
   "execution_count": 30,
   "metadata": {},
   "outputs": [
    {
     "data": {
      "text/plain": [
       "('addtion of two numbers is', 30)"
      ]
     },
     "execution_count": 30,
     "metadata": {},
     "output_type": "execute_result"
    }
   ],
   "source": [
    "#with arguments with return type\n",
    "def add(a,b):\n",
    "    c=a+b\n",
    "    return('addtion of two numbers is',c)\n",
    "add(10,20)"
   ]
  },
  {
   "cell_type": "code",
   "execution_count": 33,
   "metadata": {},
   "outputs": [
    {
     "data": {
      "text/plain": [
       "('addtion of two numbers is', 60)"
      ]
     },
     "execution_count": 33,
     "metadata": {},
     "output_type": "execute_result"
    }
   ],
   "source": [
    "def add(a,b,c):\n",
    "    sum=a+b+c\n",
    "    return('addtion of two numbers is',sum)\n",
    "add(10,20,30)"
   ]
  },
  {
   "cell_type": "code",
   "execution_count": 35,
   "metadata": {},
   "outputs": [
    {
     "data": {
      "text/plain": [
       "-10"
      ]
     },
     "execution_count": 35,
     "metadata": {},
     "output_type": "execute_result"
    }
   ],
   "source": [
    " #without aruments with return type\n",
    "def sub():\n",
    "    a=20\n",
    "    b=30\n",
    "    return a-b\n",
    "sub()\n",
    "    "
   ]
  },
  {
   "cell_type": "code",
   "execution_count": 39,
   "metadata": {},
   "outputs": [
    {
     "name": "stdout",
     "output_type": "stream",
     "text": [
      "multiplication of 10 * 20 = 200\n"
     ]
    }
   ],
   "source": [
    "#without argumts without return type\n",
    "def mul():\n",
    "    n=10\n",
    "    m=20\n",
    "    print('multiplication of %d * %d = %d'%(n,m,n*m))\n",
    "mul()"
   ]
  },
  {
   "cell_type": "code",
   "execution_count": 42,
   "metadata": {},
   "outputs": [
    {
     "name": "stdout",
     "output_type": "stream",
     "text": [
      "4.0\n"
     ]
    }
   ],
   "source": [
    "#with argumnet without return type\n",
    "def div(p,q):\n",
    "   print(p/q)\n",
    "div(8,2)"
   ]
  },
  {
   "cell_type": "code",
   "execution_count": 43,
   "metadata": {},
   "outputs": [
    {
     "name": "stdout",
     "output_type": "stream",
     "text": [
      "enter the vlaue100\n",
      "enter value500\n"
     ]
    },
    {
     "data": {
      "text/plain": [
       "'sum of 100 +500=600'"
      ]
     },
     "execution_count": 43,
     "metadata": {},
     "output_type": "execute_result"
    }
   ],
   "source": [
    "# dynamic data given by the user\n",
    "def sum1(a,b):\n",
    "    return 'sum of %d +%d=%d'%(a,b,a+b)\n",
    "a=int(input('enter the vlaue'))\n",
    "b=int(input('enter value'))\n",
    "sum1(a,b)"
   ]
  },
  {
   "cell_type": "code",
   "execution_count": null,
   "metadata": {},
   "outputs": [],
   "source": [
    "#required argumnets/positional--> it unneccesary return the return value in the program\n",
    "def intrest(p,t,r):\n",
    "    total=p*t*r/100\n",
    "    return total\n",
    "p=int(input('enter prinicipal amt:-'))\n",
    "t=float(input('enter time:-'))\n",
    "r=float(input('enter rate:-'))\n",
    "interst(p,t,r)\n",
    "    "
   ]
  },
  {
   "cell_type": "code",
   "execution_count": null,
   "metadata": {},
   "outputs": [],
   "source": [
    "#keyword argumnet\n",
    "def simple (p,t,r)\n",
    "    total=p*t*r/100\n",
    "    return total\n",
    "simple()"
   ]
  },
  {
   "cell_type": "code",
   "execution_count": null,
   "metadata": {},
   "outputs": [],
   "source": [
    "#default argumnet\n",
    "def simple1(p=1000,t=2.0,r=3.0)\n",
    "     print(p*t*r/100)\n",
    "simple1()"
   ]
  },
  {
   "cell_type": "code",
   "execution_count": null,
   "metadata": {},
   "outputs": [],
   "source": [
    "#variable length arguments---> we can call n no.of arguments\n",
    "def var_sum(*a):\n",
    "    s=0\n",
    "    for i in a:\n",
    "        s+=i\n",
    "    print(s)\n",
    "var_sum(1,2,3,4,5,6)\n"
   ]
  },
  {
   "cell_type": "code",
   "execution_count": null,
   "metadata": {},
   "outputs": [],
   "source": []
  }
 ],
 "metadata": {
  "kernelspec": {
   "display_name": "Python 3",
   "language": "python",
   "name": "python3"
  },
  "language_info": {
   "codemirror_mode": {
    "name": "ipython",
    "version": 3
   },
   "file_extension": ".py",
   "mimetype": "text/x-python",
   "name": "python",
   "nbconvert_exporter": "python",
   "pygments_lexer": "ipython3",
   "version": "3.7.3"
  }
 },
 "nbformat": 4,
 "nbformat_minor": 2
}

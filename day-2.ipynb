{
 "cells": [
  {
   "cell_type": "markdown",
   "metadata": {},
   "source": [
    "# todays topics\n",
    "+  execution of commands in python shell\n",
    "\n",
    "+ datatypes\n",
    "  +int\n",
    "  +str\n",
    "  +bool\n",
    "  -complex\n",
    "  +\n",
    "  \n",
    "+ i/p and o/p \n",
    "+ program excution in idle\n",
    "- program execution in command prompt\n"
   ]
  }
 ],
 "metadata": {
  "kernelspec": {
   "display_name": "Python 3",
   "language": "python",
   "name": "python3"
  },
  "language_info": {
   "codemirror_mode": {
    "name": "ipython",
    "version": 3
   },
   "file_extension": ".py",
   "mimetype": "text/x-python",
   "name": "python",
   "nbconvert_exporter": "python",
   "pygments_lexer": "ipython3",
   "version": "3.7.3"
  }
 },
 "nbformat": 4,
 "nbformat_minor": 2
}
